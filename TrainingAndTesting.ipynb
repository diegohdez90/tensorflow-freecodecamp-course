{
 "cells": [
  {
   "cell_type": "code",
   "execution_count": 1,
   "id": "29621382-c528-4bc6-ac8e-4205bf3f4444",
   "metadata": {},
   "outputs": [
    {
     "name": "stdout",
     "output_type": "stream",
     "text": [
      "WARNING:tensorflow:From C:\\projects\\tensorflow\\course\\venv\\lib\\site-packages\\keras\\src\\losses.py:2976: The name tf.losses.sparse_softmax_cross_entropy is deprecated. Please use tf.compat.v1.losses.sparse_softmax_cross_entropy instead.\n",
      "\n"
     ]
    }
   ],
   "source": [
    "from __future__ import absolute_import, division, print_function, unicode_literals\n",
    "\n",
    "import numpy as np\n",
    "import pandas as pd\n",
    "import matplotlib.pyplot as plt\n",
    "from IPython.display import clear_output\n",
    "from six.moves import urllib\n",
    "\n",
    "import tensorflow.compat.v2.feature_column as fc\n",
    "import tensorflow as tf"
   ]
  },
  {
   "cell_type": "markdown",
   "id": "29e444c0-ae0a-4026-953d-41038e24a86a",
   "metadata": {},
   "source": [
    "dftrain = pd.read_csv('https://storage.googleapis.com/tf-datasets/titanic/train.csv')\n",
    "dfeval = pd.read_csv('https://storage.googleapis.com/tf-datasets/titanic/eval.csv')\n",
    "y_train = dftrain.pop('survived')\n",
    "x_eval = dfeval.pop('survived')\n",
    "\n",
    "CATEGORICAL_COLUMNS = [\n",
    "    'sex',\n",
    "    'n_siblings_spouses',\n",
    "    'parch',\n",
    "    'class',\n",
    "    'deck',\n",
    "    'embark_town',\n",
    "    'alone'\n",
    "]\n",
    "\n",
    "NUMERIC_COLUMNS = ['age', 'fare']\n",
    "\n",
    "feature_columns = []\n",
    "\n",
    "for feature_name in CATEGORICAL_COLUMNS:\n",
    "    vocabulary = dftrain[feature_name].unique()\n",
    "    feature_columns.append(tf.feature_column.categorical_column_with_vocabulary_list(feature_name, vocabulary))\n",
    "\n",
    "for feature_name in NUMERIC_COLUMNS:\n",
    "    feature_columns.append(tf.feature_column.numeric_column(feature_name, dtype=tf.float32))\n",
    "\n",
    "print(feature_columns)"
   ]
  },
  {
   "cell_type": "code",
   "execution_count": 4,
   "id": "b3fd3dbf-10ef-44c1-acd5-39fb3bff3908",
   "metadata": {},
   "outputs": [
    {
     "data": {
      "text/plain": [
       "array([  7.25  ,  71.2833,   7.925 ,  53.1   ,   8.4583,  21.075 ,\n",
       "        11.1333,  30.0708,  16.7   ,   8.05  ,  31.275 ,   7.8542,\n",
       "        29.125 ,  13.    ,  18.    ,   7.225 ,  26.    ,  35.5   ,\n",
       "        31.3875, 263.    ,   7.8792,   7.8958,  27.7208, 146.5208,\n",
       "         7.75  ,  10.5   ,  82.1708,  52.    ,   7.2292,  11.2417,\n",
       "         9.475 ,  21.    ,  41.5792,  15.5   ,  21.6792,  17.8   ,\n",
       "        39.6875,  76.7292,  61.9792,  46.9   ,  80.    ,  83.475 ,\n",
       "        27.9   ,  15.2458,   8.1583,   8.6625,  73.5   ,  56.4958,\n",
       "         7.65  ,  29.    ,  12.475 ,   9.    ,   9.5   ,   7.7875,\n",
       "        47.1   ,  34.375 ,  61.175 ,  34.6542,  63.3583,  23.    ,\n",
       "        77.2875,   8.6542,   7.775 ,  24.15  ,  14.4542,  14.4583,\n",
       "       247.5208,   7.1417,   6.975 ,   7.05  ,  14.5   ,  15.0458,\n",
       "        26.2833,   9.2167,  79.2   ,   6.75  ,  11.5   ,  12.525 ,\n",
       "         7.3125,  61.3792,   7.7333,  69.55  ,  16.1   ,  55.    ,\n",
       "        25.4667,  28.7125,   0.    ,  15.05  ,  22.025 ,  26.55  ,\n",
       "         6.4958,  10.4625,  15.85  ,  18.7875,  31.    , 113.275 ,\n",
       "        27.    ,   9.35  ,  13.5   ,   7.55  ,  12.275 ,   7.125 ,\n",
       "        90.    ,  20.2125, 512.3292, 153.4625, 135.6333,  19.5   ,\n",
       "        29.7   ,  77.9583,  20.25  ,  78.85  ,  12.875 ,  30.5   ,\n",
       "        12.35  , 110.8833, 108.9   ,  24.    ,  56.9292,  83.1583,\n",
       "       262.375 ,  26.25  , 164.8667, 134.5   ,   6.2375,  20.525 ,\n",
       "        23.25  , 133.65  ,  66.6   ,  75.25  ,  69.3   , 211.5   ,\n",
       "       227.525 ,   7.7292,  12.    , 120.    ,   7.7958,  18.75  ,\n",
       "         6.8583,  32.5   ,  55.9   ,   8.1125,  19.2583,  27.75  ,\n",
       "        89.1042,  51.8625,  38.5   ,   7.725 ,  13.7917,   7.0458,\n",
       "        12.2875,   9.5875,  91.0792,  15.9   ,  19.9667,  49.5042,\n",
       "       151.55  ,  59.4   ,   7.4958,  34.0208,  93.5   ,  57.9792,\n",
       "       221.7792,  22.3583, 106.425 ,  49.5   ,  71.    ,  13.8625,\n",
       "         7.8292,  39.6   ,  79.65  ,  17.4   ,  51.4792,  26.3875,\n",
       "        30.    ,  40.125 ,  15.    ,  78.2667,  33.    ,  15.55  ,\n",
       "        65.    ,  14.4   ,  15.7417,  32.3208,   7.0542,   8.4333,\n",
       "        25.5875,  39.    ,   9.8417,   9.225 ,  10.1708, 211.3375,\n",
       "        57.    ,  13.4167,  26.2875,   7.7417,   9.4833,   8.3625,\n",
       "        23.45  ,  20.575 ,  30.6958,  25.9292,   8.6833,   7.8875,\n",
       "        37.0042,   6.95  ,   8.3   ,   6.4375,  39.4   ,  14.1083,\n",
       "        13.8583,  50.4958,  52.5542,   5.    ,   9.8458,  10.5167])"
      ]
     },
     "execution_count": 4,
     "metadata": {},
     "output_type": "execute_result"
    }
   ],
   "source": [
    "dftrain[feature_name].unique()"
   ]
  },
  {
   "cell_type": "code",
   "execution_count": 5,
   "id": "aaecbf25-45c1-4ee7-8b34-cd9d9944ee14",
   "metadata": {},
   "outputs": [
    {
     "data": {
      "text/plain": [
       "array(['male', 'female'], dtype=object)"
      ]
     },
     "execution_count": 5,
     "metadata": {},
     "output_type": "execute_result"
    }
   ],
   "source": [
    "dftrain['sex'].unique()"
   ]
  },
  {
   "cell_type": "code",
   "execution_count": 6,
   "id": "3aeaaed6-1366-47bd-ac70-018f03a4fe7d",
   "metadata": {},
   "outputs": [
    {
     "data": {
      "text/plain": [
       "array(['Southampton', 'Cherbourg', 'Queenstown', 'unknown'], dtype=object)"
      ]
     },
     "execution_count": 6,
     "metadata": {},
     "output_type": "execute_result"
    }
   ],
   "source": [
    "dftrain['embark_town'].unique()"
   ]
  }
 ],
 "metadata": {
  "kernelspec": {
   "display_name": "Python 3 (ipykernel)",
   "language": "python",
   "name": "python3"
  },
  "language_info": {
   "codemirror_mode": {
    "name": "ipython",
    "version": 3
   },
   "file_extension": ".py",
   "mimetype": "text/x-python",
   "name": "python",
   "nbconvert_exporter": "python",
   "pygments_lexer": "ipython3",
   "version": "3.10.4"
  }
 },
 "nbformat": 4,
 "nbformat_minor": 5
}
