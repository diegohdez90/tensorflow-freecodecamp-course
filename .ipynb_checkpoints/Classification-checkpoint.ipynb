{
 "cells": [
  {
   "cell_type": "code",
   "execution_count": 1,
   "id": "769f0b0e-db0e-4be9-9f20-578707001f2a",
   "metadata": {},
   "outputs": [
    {
     "name": "stdout",
     "output_type": "stream",
     "text": [
      "WARNING:tensorflow:From C:\\projects\\tensorflow\\course\\venv\\lib\\site-packages\\keras\\src\\losses.py:2976: The name tf.losses.sparse_softmax_cross_entropy is deprecated. Please use tf.compat.v1.losses.sparse_softmax_cross_entropy instead.\n",
      "\n"
     ]
    }
   ],
   "source": [
    "from __future__ import absolute_import, division, print_function, unicode_literals\n",
    "import pandas as pd\n",
    "import tensorflow as tf"
   ]
  },
  {
   "cell_type": "code",
   "execution_count": 2,
   "id": "bd43406c-45bd-4d29-994d-fd3f19c149e5",
   "metadata": {},
   "outputs": [],
   "source": [
    "CSV_COLUMN_NAMES = [\n",
    "    'SepalLength',\n",
    "    'SepalWidth',\n",
    "    'PetalLength',\n",
    "    'PetalWidth',\n",
    "    'Species'\n",
    "]\n",
    "SPECIES = [\n",
    "    'Setosa',\n",
    "    'Versicolor',\n",
    "    'Virginica'\n",
    "]"
   ]
  },
  {
   "cell_type": "code",
   "execution_count": 3,
   "id": "daeacb48-f440-431a-887b-437670b7af40",
   "metadata": {},
   "outputs": [
    {
     "name": "stdout",
     "output_type": "stream",
     "text": [
      "Downloading data from https://storage.googleapis.com/download.tensorflow.org/data/iris_training.csv\n",
      "2194/2194 [==============================] - 0s 0s/step\n",
      "Downloading data from https://storage.googleapis.com/download.tensorflow.org/data/iris_test.csv\n",
      "573/573 [==============================] - 0s 0s/step\n"
     ]
    }
   ],
   "source": [
    "train_path = tf.keras.utils.get_file(\n",
    "    'iris_training.csv', 'https://storage.googleapis.com/download.tensorflow.org/data/iris_training.csv'\n",
    ")\n",
    "test_path = tf.keras.utils.get_file(\n",
    "    'iris_test.csv', 'https://storage.googleapis.com/download.tensorflow.org/data/iris_test.csv'\n",
    ")\n",
    "\n",
    "train = pd.read_csv(train_path, names=CSV_COLUMN_NAMES, header=0)\n",
    "test = pd.read_csv(test_path, names=CSV_COLUMN_NAMES, header=0)\n"
   ]
  },
  {
   "cell_type": "code",
   "execution_count": 4,
   "id": "0c0ef6a5-225e-442e-b0ab-e6684d35221c",
   "metadata": {},
   "outputs": [
    {
     "data": {
      "text/html": [
       "<div>\n",
       "<style scoped>\n",
       "    .dataframe tbody tr th:only-of-type {\n",
       "        vertical-align: middle;\n",
       "    }\n",
       "\n",
       "    .dataframe tbody tr th {\n",
       "        vertical-align: top;\n",
       "    }\n",
       "\n",
       "    .dataframe thead th {\n",
       "        text-align: right;\n",
       "    }\n",
       "</style>\n",
       "<table border=\"1\" class=\"dataframe\">\n",
       "  <thead>\n",
       "    <tr style=\"text-align: right;\">\n",
       "      <th></th>\n",
       "      <th>SepalLength</th>\n",
       "      <th>SepalWidth</th>\n",
       "      <th>PetalLength</th>\n",
       "      <th>PetalWidth</th>\n",
       "      <th>Species</th>\n",
       "    </tr>\n",
       "  </thead>\n",
       "  <tbody>\n",
       "    <tr>\n",
       "      <th>0</th>\n",
       "      <td>6.4</td>\n",
       "      <td>2.8</td>\n",
       "      <td>5.6</td>\n",
       "      <td>2.2</td>\n",
       "      <td>2</td>\n",
       "    </tr>\n",
       "    <tr>\n",
       "      <th>1</th>\n",
       "      <td>5.0</td>\n",
       "      <td>2.3</td>\n",
       "      <td>3.3</td>\n",
       "      <td>1.0</td>\n",
       "      <td>1</td>\n",
       "    </tr>\n",
       "    <tr>\n",
       "      <th>2</th>\n",
       "      <td>4.9</td>\n",
       "      <td>2.5</td>\n",
       "      <td>4.5</td>\n",
       "      <td>1.7</td>\n",
       "      <td>2</td>\n",
       "    </tr>\n",
       "    <tr>\n",
       "      <th>3</th>\n",
       "      <td>4.9</td>\n",
       "      <td>3.1</td>\n",
       "      <td>1.5</td>\n",
       "      <td>0.1</td>\n",
       "      <td>0</td>\n",
       "    </tr>\n",
       "    <tr>\n",
       "      <th>4</th>\n",
       "      <td>5.7</td>\n",
       "      <td>3.8</td>\n",
       "      <td>1.7</td>\n",
       "      <td>0.3</td>\n",
       "      <td>0</td>\n",
       "    </tr>\n",
       "  </tbody>\n",
       "</table>\n",
       "</div>"
      ],
      "text/plain": [
       "   SepalLength  SepalWidth  PetalLength  PetalWidth  Species\n",
       "0          6.4         2.8          5.6         2.2        2\n",
       "1          5.0         2.3          3.3         1.0        1\n",
       "2          4.9         2.5          4.5         1.7        2\n",
       "3          4.9         3.1          1.5         0.1        0\n",
       "4          5.7         3.8          1.7         0.3        0"
      ]
     },
     "execution_count": 4,
     "metadata": {},
     "output_type": "execute_result"
    }
   ],
   "source": [
    "train.head()"
   ]
  },
  {
   "cell_type": "code",
   "execution_count": 5,
   "id": "f8b388f7-4412-47a7-b74c-ea8bb981188e",
   "metadata": {},
   "outputs": [
    {
     "data": {
      "text/html": [
       "<div>\n",
       "<style scoped>\n",
       "    .dataframe tbody tr th:only-of-type {\n",
       "        vertical-align: middle;\n",
       "    }\n",
       "\n",
       "    .dataframe tbody tr th {\n",
       "        vertical-align: top;\n",
       "    }\n",
       "\n",
       "    .dataframe thead th {\n",
       "        text-align: right;\n",
       "    }\n",
       "</style>\n",
       "<table border=\"1\" class=\"dataframe\">\n",
       "  <thead>\n",
       "    <tr style=\"text-align: right;\">\n",
       "      <th></th>\n",
       "      <th>SepalLength</th>\n",
       "      <th>SepalWidth</th>\n",
       "      <th>PetalLength</th>\n",
       "      <th>PetalWidth</th>\n",
       "    </tr>\n",
       "  </thead>\n",
       "  <tbody>\n",
       "    <tr>\n",
       "      <th>0</th>\n",
       "      <td>6.4</td>\n",
       "      <td>2.8</td>\n",
       "      <td>5.6</td>\n",
       "      <td>2.2</td>\n",
       "    </tr>\n",
       "    <tr>\n",
       "      <th>1</th>\n",
       "      <td>5.0</td>\n",
       "      <td>2.3</td>\n",
       "      <td>3.3</td>\n",
       "      <td>1.0</td>\n",
       "    </tr>\n",
       "    <tr>\n",
       "      <th>2</th>\n",
       "      <td>4.9</td>\n",
       "      <td>2.5</td>\n",
       "      <td>4.5</td>\n",
       "      <td>1.7</td>\n",
       "    </tr>\n",
       "    <tr>\n",
       "      <th>3</th>\n",
       "      <td>4.9</td>\n",
       "      <td>3.1</td>\n",
       "      <td>1.5</td>\n",
       "      <td>0.1</td>\n",
       "    </tr>\n",
       "    <tr>\n",
       "      <th>4</th>\n",
       "      <td>5.7</td>\n",
       "      <td>3.8</td>\n",
       "      <td>1.7</td>\n",
       "      <td>0.3</td>\n",
       "    </tr>\n",
       "  </tbody>\n",
       "</table>\n",
       "</div>"
      ],
      "text/plain": [
       "   SepalLength  SepalWidth  PetalLength  PetalWidth\n",
       "0          6.4         2.8          5.6         2.2\n",
       "1          5.0         2.3          3.3         1.0\n",
       "2          4.9         2.5          4.5         1.7\n",
       "3          4.9         3.1          1.5         0.1\n",
       "4          5.7         3.8          1.7         0.3"
      ]
     },
     "execution_count": 5,
     "metadata": {},
     "output_type": "execute_result"
    }
   ],
   "source": [
    "train_y = train.pop('Species')\n",
    "test_y = test.pop('Species')\n",
    "train.head()"
   ]
  },
  {
   "cell_type": "code",
   "execution_count": 6,
   "id": "7d251a3e-799c-4a06-8c15-2537405d98b9",
   "metadata": {},
   "outputs": [
    {
     "data": {
      "text/plain": [
       "(120, 4)"
      ]
     },
     "execution_count": 6,
     "metadata": {},
     "output_type": "execute_result"
    }
   ],
   "source": [
    "train.shape"
   ]
  },
  {
   "cell_type": "code",
   "execution_count": 7,
   "id": "7982b8fa-ae84-4c60-8764-188d4a661553",
   "metadata": {},
   "outputs": [
    {
     "data": {
      "text/plain": [
       "0    2\n",
       "1    1\n",
       "2    2\n",
       "3    0\n",
       "4    0\n",
       "Name: Species, dtype: int64"
      ]
     },
     "execution_count": 7,
     "metadata": {},
     "output_type": "execute_result"
    }
   ],
   "source": [
    "train_y.head()"
   ]
  },
  {
   "cell_type": "code",
   "execution_count": 10,
   "id": "815744de-84bd-414e-b560-26072d25e3ba",
   "metadata": {},
   "outputs": [],
   "source": [
    "def input_fn(features, labels, training=True, batch_size=256):\n",
    "    dataset = tf.data.Dataset.from_tensor_slices((dict(features), labels))\n",
    "\n",
    "    if training:\n",
    "        dataset = dataset.shuffle(1000).repeat()\n",
    "\n",
    "    return dataset.batch(batch_size)"
   ]
  },
  {
   "cell_type": "code",
   "execution_count": 9,
   "id": "b05a64e7-06c5-481d-9d1e-c20a0a0af97e",
   "metadata": {},
   "outputs": [
    {
     "name": "stdout",
     "output_type": "stream",
     "text": [
      "WARNING:tensorflow:From C:\\Users\\diego\\AppData\\Local\\Temp\\ipykernel_16328\\2926021717.py:3: numeric_column (from tensorflow.python.feature_column.feature_column_v2) is deprecated and will be removed in a future version.\n",
      "Instructions for updating:\n",
      "Use Keras preprocessing layers instead, either directly or via the `tf.keras.utils.FeatureSpace` utility. Each of `tf.feature_column.*` has a functional equivalent in `tf.keras.layers` for feature preprocessing when training a Keras model.\n",
      "[NumericColumn(key='SepalLength', shape=(1,), default_value=None, dtype=tf.float32, normalizer_fn=None), NumericColumn(key='SepalWidth', shape=(1,), default_value=None, dtype=tf.float32, normalizer_fn=None), NumericColumn(key='PetalLength', shape=(1,), default_value=None, dtype=tf.float32, normalizer_fn=None), NumericColumn(key='PetalWidth', shape=(1,), default_value=None, dtype=tf.float32, normalizer_fn=None)]\n"
     ]
    }
   ],
   "source": [
    "my_feature_columns = []\n",
    "for key in train.keys():\n",
    "    my_feature_columns.append(tf.feature_column.numeric_column(key=key))\n",
    "print(my_feature_columns)"
   ]
  },
  {
   "cell_type": "code",
   "execution_count": 12,
   "id": "ed9aa914-a654-4fb8-8a0b-16494491af7a",
   "metadata": {},
   "outputs": [
    {
     "name": "stdout",
     "output_type": "stream",
     "text": [
      "WARNING:tensorflow:From C:\\projects\\tensorflow\\course\\venv\\lib\\site-packages\\tensorflow_estimator\\python\\estimator\\util.py:74: The name tf.train.SessionRunHook is deprecated. Please use tf.estimator.SessionRunHook instead.\n",
      "\n",
      "WARNING:tensorflow:From C:\\Users\\diego\\AppData\\Local\\Temp\\ipykernel_16328\\2300045573.py:3: DNNClassifierV2.__init__ (from tensorflow_estimator.python.estimator.canned.dnn) is deprecated and will be removed in a future version.\n",
      "Instructions for updating:\n",
      "Use tf.keras instead.\n",
      "WARNING:tensorflow:From C:\\projects\\tensorflow\\course\\venv\\lib\\site-packages\\tensorflow_estimator\\python\\estimator\\head\\head_utils.py:59: MultiClassHead.__init__ (from tensorflow_estimator.python.estimator.head.multi_class_head) is deprecated and will be removed in a future version.\n",
      "Instructions for updating:\n",
      "Use tf.keras instead.\n",
      "WARNING:tensorflow:From C:\\projects\\tensorflow\\course\\venv\\lib\\site-packages\\tensorflow_estimator\\python\\estimator\\head\\base_head.py:696: The name tf.debugging.assert_greater is deprecated. Please use tf.compat.v1.debugging.assert_greater instead.\n",
      "\n",
      "WARNING:tensorflow:From C:\\projects\\tensorflow\\course\\venv\\lib\\site-packages\\tensorflow_estimator\\python\\estimator\\canned\\dnn.py:759: Estimator.__init__ (from tensorflow_estimator.python.estimator.estimator) is deprecated and will be removed in a future version.\n",
      "Instructions for updating:\n",
      "Use tf.keras instead.\n",
      "WARNING:tensorflow:From C:\\projects\\tensorflow\\course\\venv\\lib\\site-packages\\tensorflow_estimator\\python\\estimator\\estimator.py:1844: RunConfig.__init__ (from tensorflow_estimator.python.estimator.run_config) is deprecated and will be removed in a future version.\n",
      "Instructions for updating:\n",
      "Use tf.keras instead.\n",
      "WARNING:tensorflow:From C:\\projects\\tensorflow\\course\\venv\\lib\\site-packages\\tensorflow_estimator\\python\\estimator\\estimator.py:1845: The name tf.logging.info is deprecated. Please use tf.compat.v1.logging.info instead.\n",
      "\n",
      "INFO:tensorflow:Using default config.\n",
      "WARNING:tensorflow:From C:\\projects\\tensorflow\\course\\venv\\lib\\site-packages\\tensorflow_estimator\\python\\estimator\\run_config.py:329: The name tf.GraphOptions is deprecated. Please use tf.compat.v1.GraphOptions instead.\n",
      "\n",
      "WARNING:tensorflow:Using temporary folder as model directory: C:\\Users\\diego\\AppData\\Local\\Temp\\tmpxae3jw2_\n",
      "INFO:tensorflow:Using config: {'_model_dir': 'C:\\\\Users\\\\diego\\\\AppData\\\\Local\\\\Temp\\\\tmpxae3jw2_', '_tf_random_seed': None, '_save_summary_steps': 100, '_save_checkpoints_steps': None, '_save_checkpoints_secs': 600, '_session_config': allow_soft_placement: true\n",
      "graph_options {\n",
      "  rewrite_options {\n",
      "    meta_optimizer_iterations: ONE\n",
      "  }\n",
      "}\n",
      ", '_keep_checkpoint_max': 5, '_keep_checkpoint_every_n_hours': 10000, '_log_step_count_steps': 100, '_train_distribute': None, '_device_fn': None, '_protocol': None, '_eval_distribute': None, '_experimental_distribute': None, '_experimental_max_worker_delay_secs': None, '_session_creation_timeout_secs': 7200, '_checkpoint_save_graph_def': True, '_service': None, '_cluster_spec': ClusterSpec({}), '_task_type': 'worker', '_task_id': 0, '_global_id_in_cluster': 0, '_master': '', '_evaluation_master': '', '_is_chief': True, '_num_ps_replicas': 0, '_num_worker_replicas': 1}\n"
     ]
    }
   ],
   "source": [
    "# Building the model\n",
    "# 2 hidden layers with 30 and 10 hidden nodes each\n",
    "classifier = tf.estimator.DNNClassifier(\n",
    "    feature_columns=my_feature_columns,\n",
    "    hidden_units=[30,10],\n",
    "    n_classes=3 # the model choose between 3 classes\n",
    ")"
   ]
  },
  {
   "cell_type": "code",
   "execution_count": 13,
   "id": "e9d90481-c76f-44b6-bc75-dbd94d111479",
   "metadata": {},
   "outputs": [
    {
     "name": "stdout",
     "output_type": "stream",
     "text": [
      "WARNING:tensorflow:From C:\\projects\\tensorflow\\course\\venv\\lib\\site-packages\\tensorflow_estimator\\python\\estimator\\estimator.py:385: StopAtStepHook.__init__ (from tensorflow.python.training.basic_session_run_hooks) is deprecated and will be removed in a future version.\n",
      "Instructions for updating:\n",
      "Use tf.keras instead.\n",
      "WARNING:tensorflow:From C:\\projects\\tensorflow\\course\\venv\\lib\\site-packages\\tensorflow_estimator\\python\\estimator\\estimator.py:1205: The name tf.random.set_random_seed is deprecated. Please use tf.compat.v1.random.set_random_seed instead.\n",
      "\n",
      "WARNING:tensorflow:From C:\\projects\\tensorflow\\course\\venv\\lib\\site-packages\\tensorflow_estimator\\python\\estimator\\util.py:58: The name tf.data.make_initializable_iterator is deprecated. Please use tf.compat.v1.data.make_initializable_iterator instead.\n",
      "\n",
      "INFO:tensorflow:Calling model_fn.\n",
      "WARNING:tensorflow:From C:\\projects\\tensorflow\\course\\venv\\lib\\site-packages\\keras\\src\\utils\\version_utils.py:76: The name tf.executing_eagerly_outside_functions is deprecated. Please use tf.compat.v1.executing_eagerly_outside_functions instead.\n",
      "\n",
      "WARNING:tensorflow:From C:\\projects\\tensorflow\\course\\venv\\lib\\site-packages\\tensorflow\\python\\autograph\\converters\\directives.py:126: The name tf.summary.scalar is deprecated. Please use tf.compat.v1.summary.scalar instead.\n",
      "\n",
      "WARNING:tensorflow:From C:\\projects\\tensorflow\\course\\venv\\lib\\site-packages\\keras\\src\\optimizers\\legacy\\adagrad.py:93: calling Constant.__init__ (from tensorflow.python.ops.init_ops) with dtype is deprecated and will be removed in a future version.\n",
      "Instructions for updating:\n",
      "Call initializer instance with the dtype argument instead of passing it to the constructor\n",
      "WARNING:tensorflow:From C:\\projects\\tensorflow\\course\\venv\\lib\\site-packages\\tensorflow_estimator\\python\\estimator\\model_fn.py:250: EstimatorSpec.__new__ (from tensorflow_estimator.python.estimator.model_fn) is deprecated and will be removed in a future version.\n",
      "Instructions for updating:\n",
      "Use tf.keras instead.\n",
      "INFO:tensorflow:Done calling model_fn.\n",
      "WARNING:tensorflow:From C:\\projects\\tensorflow\\course\\venv\\lib\\site-packages\\tensorflow_estimator\\python\\estimator\\estimator.py:1416: NanTensorHook.__init__ (from tensorflow.python.training.basic_session_run_hooks) is deprecated and will be removed in a future version.\n",
      "Instructions for updating:\n",
      "Use tf.keras instead.\n",
      "WARNING:tensorflow:From C:\\projects\\tensorflow\\course\\venv\\lib\\site-packages\\tensorflow_estimator\\python\\estimator\\estimator.py:1419: LoggingTensorHook.__init__ (from tensorflow.python.training.basic_session_run_hooks) is deprecated and will be removed in a future version.\n",
      "Instructions for updating:\n",
      "Use tf.keras instead.\n",
      "WARNING:tensorflow:From C:\\projects\\tensorflow\\course\\venv\\lib\\site-packages\\tensorflow\\python\\training\\basic_session_run_hooks.py:232: SecondOrStepTimer.__init__ (from tensorflow.python.training.basic_session_run_hooks) is deprecated and will be removed in a future version.\n",
      "Instructions for updating:\n",
      "Use tf.keras instead.\n",
      "WARNING:tensorflow:From C:\\projects\\tensorflow\\course\\venv\\lib\\site-packages\\tensorflow_estimator\\python\\estimator\\estimator.py:1456: CheckpointSaverHook.__init__ (from tensorflow.python.training.basic_session_run_hooks) is deprecated and will be removed in a future version.\n",
      "Instructions for updating:\n",
      "Use tf.keras instead.\n",
      "INFO:tensorflow:Create CheckpointSaverHook.\n",
      "WARNING:tensorflow:From C:\\projects\\tensorflow\\course\\venv\\lib\\site-packages\\tensorflow\\python\\training\\monitored_session.py:579: StepCounterHook.__init__ (from tensorflow.python.training.basic_session_run_hooks) is deprecated and will be removed in a future version.\n",
      "Instructions for updating:\n",
      "Use tf.keras instead.\n",
      "WARNING:tensorflow:From C:\\projects\\tensorflow\\course\\venv\\lib\\site-packages\\tensorflow\\python\\training\\monitored_session.py:586: SummarySaverHook.__init__ (from tensorflow.python.training.basic_session_run_hooks) is deprecated and will be removed in a future version.\n",
      "Instructions for updating:\n",
      "Use tf.keras instead.\n",
      "INFO:tensorflow:Graph was finalized.\n",
      "INFO:tensorflow:Running local_init_op.\n",
      "INFO:tensorflow:Done running local_init_op.\n",
      "INFO:tensorflow:Calling checkpoint listeners before saving checkpoint 0...\n",
      "INFO:tensorflow:Saving checkpoints for 0 into C:\\Users\\diego\\AppData\\Local\\Temp\\tmpxae3jw2_\\model.ckpt.\n",
      "INFO:tensorflow:Calling checkpoint listeners after saving checkpoint 0...\n",
      "WARNING:tensorflow:From C:\\projects\\tensorflow\\course\\venv\\lib\\site-packages\\tensorflow\\python\\training\\monitored_session.py:1455: SessionRunArgs.__new__ (from tensorflow.python.training.session_run_hook) is deprecated and will be removed in a future version.\n",
      "Instructions for updating:\n",
      "Use tf.keras instead.\n",
      "WARNING:tensorflow:From C:\\projects\\tensorflow\\course\\venv\\lib\\site-packages\\tensorflow\\python\\training\\monitored_session.py:1454: SessionRunContext.__init__ (from tensorflow.python.training.session_run_hook) is deprecated and will be removed in a future version.\n",
      "Instructions for updating:\n",
      "Use tf.keras instead.\n",
      "WARNING:tensorflow:From C:\\projects\\tensorflow\\course\\venv\\lib\\site-packages\\tensorflow\\python\\training\\monitored_session.py:1474: SessionRunValues.__new__ (from tensorflow.python.training.session_run_hook) is deprecated and will be removed in a future version.\n",
      "Instructions for updating:\n",
      "Use tf.keras instead.\n",
      "INFO:tensorflow:loss = 1.1742971, step = 0\n",
      "INFO:tensorflow:global_step/sec: 242.062\n",
      "INFO:tensorflow:loss = 0.99941826, step = 100 (0.416 sec)\n",
      "INFO:tensorflow:global_step/sec: 348.045\n",
      "INFO:tensorflow:loss = 0.9077347, step = 200 (0.284 sec)\n",
      "INFO:tensorflow:global_step/sec: 440.706\n",
      "INFO:tensorflow:loss = 0.8636743, step = 300 (0.227 sec)\n",
      "INFO:tensorflow:global_step/sec: 396.297\n",
      "INFO:tensorflow:loss = 0.80927515, step = 400 (0.251 sec)\n",
      "INFO:tensorflow:global_step/sec: 360.367\n",
      "INFO:tensorflow:loss = 0.78037727, step = 500 (0.287 sec)\n",
      "INFO:tensorflow:global_step/sec: 332.094\n",
      "INFO:tensorflow:loss = 0.74141216, step = 600 (0.294 sec)\n",
      "INFO:tensorflow:global_step/sec: 650.949\n",
      "INFO:tensorflow:loss = 0.7058791, step = 700 (0.156 sec)\n",
      "INFO:tensorflow:global_step/sec: 388.36\n",
      "INFO:tensorflow:loss = 0.6803243, step = 800 (0.255 sec)\n",
      "INFO:tensorflow:global_step/sec: 1118.92\n",
      "INFO:tensorflow:loss = 0.65496945, step = 900 (0.088 sec)\n",
      "INFO:tensorflow:global_step/sec: 534.603\n",
      "INFO:tensorflow:loss = 0.6437954, step = 1000 (0.191 sec)\n",
      "INFO:tensorflow:global_step/sec: 463.667\n",
      "INFO:tensorflow:loss = 0.6127739, step = 1100 (0.220 sec)\n",
      "INFO:tensorflow:global_step/sec: 476.01\n",
      "INFO:tensorflow:loss = 0.588843, step = 1200 (0.203 sec)\n",
      "INFO:tensorflow:global_step/sec: 408.747\n",
      "INFO:tensorflow:loss = 0.569069, step = 1300 (0.244 sec)\n",
      "INFO:tensorflow:global_step/sec: 345.722\n",
      "INFO:tensorflow:loss = 0.5653045, step = 1400 (0.294 sec)\n",
      "INFO:tensorflow:global_step/sec: 424.277\n",
      "INFO:tensorflow:loss = 0.5274218, step = 1500 (0.234 sec)\n",
      "INFO:tensorflow:global_step/sec: 389.567\n",
      "INFO:tensorflow:loss = 0.52540666, step = 1600 (0.257 sec)\n",
      "INFO:tensorflow:global_step/sec: 397.382\n",
      "INFO:tensorflow:loss = 0.51195323, step = 1700 (0.252 sec)\n",
      "INFO:tensorflow:global_step/sec: 404.304\n",
      "INFO:tensorflow:loss = 0.49392492, step = 1800 (0.248 sec)\n",
      "INFO:tensorflow:global_step/sec: 361.013\n",
      "INFO:tensorflow:loss = 0.47415444, step = 1900 (0.280 sec)\n",
      "INFO:tensorflow:global_step/sec: 386.416\n",
      "INFO:tensorflow:loss = 0.46964926, step = 2000 (0.255 sec)\n",
      "INFO:tensorflow:global_step/sec: 451.372\n",
      "INFO:tensorflow:loss = 0.46105245, step = 2100 (0.219 sec)\n",
      "INFO:tensorflow:global_step/sec: 1289.96\n",
      "INFO:tensorflow:loss = 0.45693046, step = 2200 (0.078 sec)\n",
      "INFO:tensorflow:global_step/sec: 1266.53\n",
      "INFO:tensorflow:loss = 0.45517665, step = 2300 (0.080 sec)\n",
      "INFO:tensorflow:global_step/sec: 1338.19\n",
      "INFO:tensorflow:loss = 0.4356091, step = 2400 (0.074 sec)\n",
      "INFO:tensorflow:global_step/sec: 1327.28\n",
      "INFO:tensorflow:loss = 0.4327605, step = 2500 (0.075 sec)\n",
      "INFO:tensorflow:global_step/sec: 1327.46\n",
      "INFO:tensorflow:loss = 0.41734898, step = 2600 (0.076 sec)\n",
      "INFO:tensorflow:global_step/sec: 1369.88\n",
      "INFO:tensorflow:loss = 0.41693044, step = 2700 (0.073 sec)\n",
      "INFO:tensorflow:global_step/sec: 1211.86\n",
      "INFO:tensorflow:loss = 0.41013822, step = 2800 (0.084 sec)\n",
      "INFO:tensorflow:global_step/sec: 1247.6\n",
      "INFO:tensorflow:loss = 0.42292884, step = 2900 (0.078 sec)\n",
      "INFO:tensorflow:global_step/sec: 1289.8\n",
      "INFO:tensorflow:loss = 0.40366662, step = 3000 (0.078 sec)\n",
      "INFO:tensorflow:global_step/sec: 1289.74\n",
      "INFO:tensorflow:loss = 0.3884458, step = 3100 (0.079 sec)\n",
      "INFO:tensorflow:global_step/sec: 1206.26\n",
      "INFO:tensorflow:loss = 0.38754773, step = 3200 (0.083 sec)\n",
      "INFO:tensorflow:global_step/sec: 1155.44\n",
      "INFO:tensorflow:loss = 0.3810416, step = 3300 (0.087 sec)\n",
      "INFO:tensorflow:global_step/sec: 1271\n",
      "INFO:tensorflow:loss = 0.37359178, step = 3400 (0.078 sec)\n",
      "INFO:tensorflow:global_step/sec: 1344.44\n",
      "INFO:tensorflow:loss = 0.37764835, step = 3500 (0.074 sec)\n",
      "INFO:tensorflow:global_step/sec: 1201.6\n",
      "INFO:tensorflow:loss = 0.37658557, step = 3600 (0.084 sec)\n",
      "INFO:tensorflow:global_step/sec: 1174.17\n",
      "INFO:tensorflow:loss = 0.3727808, step = 3700 (0.085 sec)\n",
      "INFO:tensorflow:global_step/sec: 1284.15\n",
      "INFO:tensorflow:loss = 0.36575583, step = 3800 (0.077 sec)\n",
      "INFO:tensorflow:global_step/sec: 1317.73\n",
      "INFO:tensorflow:loss = 0.36014688, step = 3900 (0.076 sec)\n",
      "INFO:tensorflow:global_step/sec: 1310.55\n",
      "INFO:tensorflow:loss = 0.36324245, step = 4000 (0.076 sec)\n",
      "INFO:tensorflow:global_step/sec: 1253.67\n",
      "INFO:tensorflow:loss = 0.33697158, step = 4100 (0.081 sec)\n",
      "INFO:tensorflow:global_step/sec: 1377.2\n",
      "INFO:tensorflow:loss = 0.3516423, step = 4200 (0.073 sec)\n",
      "INFO:tensorflow:global_step/sec: 1333.5\n",
      "INFO:tensorflow:loss = 0.3369224, step = 4300 (0.075 sec)\n",
      "INFO:tensorflow:global_step/sec: 1267.55\n",
      "INFO:tensorflow:loss = 0.34307426, step = 4400 (0.078 sec)\n",
      "INFO:tensorflow:global_step/sec: 1332.21\n",
      "INFO:tensorflow:loss = 0.33203915, step = 4500 (0.075 sec)\n",
      "INFO:tensorflow:global_step/sec: 1272.61\n",
      "INFO:tensorflow:loss = 0.33364764, step = 4600 (0.079 sec)\n",
      "INFO:tensorflow:global_step/sec: 1333.3\n",
      "INFO:tensorflow:loss = 0.3424443, step = 4700 (0.076 sec)\n",
      "INFO:tensorflow:global_step/sec: 1312.25\n",
      "INFO:tensorflow:loss = 0.32927996, step = 4800 (0.076 sec)\n",
      "INFO:tensorflow:global_step/sec: 1351.34\n",
      "INFO:tensorflow:loss = 0.3248539, step = 4900 (0.073 sec)\n",
      "INFO:tensorflow:Calling checkpoint listeners before saving checkpoint 5000...\n",
      "INFO:tensorflow:Saving checkpoints for 5000 into C:\\Users\\diego\\AppData\\Local\\Temp\\tmpxae3jw2_\\model.ckpt.\n",
      "INFO:tensorflow:Calling checkpoint listeners after saving checkpoint 5000...\n",
      "INFO:tensorflow:Loss for final step: 0.31531745.\n"
     ]
    },
    {
     "data": {
      "text/plain": [
       "<tensorflow_estimator.python.estimator.canned.dnn.DNNClassifierV2 at 0x1e34a599480>"
      ]
     },
     "execution_count": 13,
     "metadata": {},
     "output_type": "execute_result"
    }
   ],
   "source": [
    "# training\n",
    "classifier.train(\n",
    "    input_fn=lambda: input_fn(train, train_y, training=True),\n",
    "    steps=5000\n",
    ")"
   ]
  },
  {
   "cell_type": "code",
   "execution_count": 15,
   "id": "1ad1e08c-c108-4ee2-9f8f-102633dba070",
   "metadata": {},
   "outputs": [
    {
     "name": "stdout",
     "output_type": "stream",
     "text": [
      "INFO:tensorflow:Calling model_fn.\n",
      "INFO:tensorflow:Done calling model_fn.\n",
      "INFO:tensorflow:Starting evaluation at 2024-03-12T10:54:44\n",
      "INFO:tensorflow:Graph was finalized.\n",
      "INFO:tensorflow:Restoring parameters from C:\\Users\\diego\\AppData\\Local\\Temp\\tmpxae3jw2_\\model.ckpt-5000\n",
      "INFO:tensorflow:Running local_init_op.\n",
      "INFO:tensorflow:Done running local_init_op.\n",
      "INFO:tensorflow:Inference Time : 0.17547s\n",
      "INFO:tensorflow:Finished evaluation at 2024-03-12-10:54:44\n",
      "INFO:tensorflow:Saving dict for global step 5000: accuracy = 0.93333334, average_loss = 0.38206306, global_step = 5000, loss = 0.38206306\n",
      "INFO:tensorflow:Saving 'checkpoint_path' summary for global step 5000: C:\\Users\\diego\\AppData\\Local\\Temp\\tmpxae3jw2_\\model.ckpt-5000\n",
      "\n",
      "Test set accuracy: 0.933\n",
      "\n"
     ]
    }
   ],
   "source": [
    "eval_result = classifier.evaluate(input_fn=lambda: input_fn(test, test_y, training=False))\n",
    "print('\\nTest set accuracy: {accuracy:0.3f}\\n'.format(**eval_result))"
   ]
  },
  {
   "cell_type": "code",
   "execution_count": 19,
   "id": "3fc0663a-48b6-40fc-8475-66d43dac876a",
   "metadata": {},
   "outputs": [],
   "source": [
    "# Predictions\n",
    "def new_input_fn(features, batch_size=256):\n",
    "    return tf.data.Dataset.from_tensor_slices(dict(features)).batch(batch_size)"
   ]
  },
  {
   "cell_type": "code",
   "execution_count": 17,
   "id": "4c3c0ddd-4c34-430a-886e-544bf048d4b8",
   "metadata": {},
   "outputs": [
    {
     "name": "stdout",
     "output_type": "stream",
     "text": [
      "Please type numeric values as prompted\n"
     ]
    }
   ],
   "source": [
    "features = CSV_COLUMN_NAMES = [\n",
    "    'SepalLength',\n",
    "    'SepalWidth',\n",
    "    'PetalLength',\n",
    "    'PetalWidth']\n",
    "predict = {}\n",
    "print(\"Please type numeric values as prompted\")"
   ]
  },
  {
   "cell_type": "code",
   "execution_count": 20,
   "id": "579679bc-a24c-40ad-b6f7-08df74824420",
   "metadata": {},
   "outputs": [
    {
     "name": "stdin",
     "output_type": "stream",
     "text": [
      "SepalLength:  4.2\n",
      "SepalWidth:  1.2\n",
      "PetalLength:  3.1\n",
      "PetalWidth:  1.7\n"
     ]
    },
    {
     "name": "stdout",
     "output_type": "stream",
     "text": [
      "INFO:tensorflow:Calling model_fn.\n",
      "WARNING:tensorflow:From C:\\projects\\tensorflow\\course\\venv\\lib\\site-packages\\tensorflow_estimator\\python\\estimator\\head\\base_head.py:786: ClassificationOutput.__init__ (from tensorflow.python.saved_model.model_utils.export_output) is deprecated and will be removed in a future version.\n",
      "Instructions for updating:\n",
      "Use tf.keras instead.\n",
      "WARNING:tensorflow:From C:\\projects\\tensorflow\\course\\venv\\lib\\site-packages\\tensorflow_estimator\\python\\estimator\\head\\multi_class_head.py:455: PredictOutput.__init__ (from tensorflow.python.saved_model.model_utils.export_output) is deprecated and will be removed in a future version.\n",
      "Instructions for updating:\n",
      "Use tf.keras instead.\n",
      "INFO:tensorflow:Done calling model_fn.\n",
      "INFO:tensorflow:Graph was finalized.\n",
      "INFO:tensorflow:Restoring parameters from C:\\Users\\diego\\AppData\\Local\\Temp\\tmpxae3jw2_\\model.ckpt-5000\n",
      "INFO:tensorflow:Running local_init_op.\n",
      "INFO:tensorflow:Done running local_init_op.\n",
      "Prediction is Virginica (55.3%)\n"
     ]
    }
   ],
   "source": [
    "for feature in features:\n",
    "    valid = True\n",
    "    while valid:\n",
    "        val = input(feature + \": \")\n",
    "        if not val.isdigit(): valid = False\n",
    "\n",
    "    predict[feature] = [float(val)]\n",
    "\n",
    "predictions = classifier.predict(input_fn=lambda: new_input_fn(predict))\n",
    "for pred_dict in predictions:\n",
    "    class_id = pred_dict['class_ids'][0]\n",
    "    probability = pred_dict['probabilities'][class_id]\n",
    "\n",
    "    print('Prediction is {} ({:.1f}%)'.format(\n",
    "        SPECIES[class_id], 100 * probability\n",
    "    ))"
   ]
  },
  {
   "cell_type": "code",
   "execution_count": null,
   "id": "17e3f9fc-f259-4f04-990a-2d4aff66097c",
   "metadata": {},
   "outputs": [],
   "source": [
    "expected = ['Setosa', 'Versicolor', 'Virginica']\n",
    "predict_x = {\n",
    "    'SepalLength': [5.1, 5.9, 6.9],\n",
    "    'SepalWidth': [3.3, 3.0, 3.1],\n",
    "    'PetalLength': [1.7, 4.2, 5.4],\n",
    "    'PetalWidth': [0.5, 1.5, 2.1]\n",
    "}"
   ]
  }
 ],
 "metadata": {
  "kernelspec": {
   "display_name": "Python 3 (ipykernel)",
   "language": "python",
   "name": "python3"
  },
  "language_info": {
   "codemirror_mode": {
    "name": "ipython",
    "version": 3
   },
   "file_extension": ".py",
   "mimetype": "text/x-python",
   "name": "python",
   "nbconvert_exporter": "python",
   "pygments_lexer": "ipython3",
   "version": "3.10.4"
  }
 },
 "nbformat": 4,
 "nbformat_minor": 5
}
