{
 "cells": [
  {
   "cell_type": "code",
   "execution_count": 2,
   "id": "dfa1d2d6-33f3-4c45-be29-4ebea25a5bb0",
   "metadata": {},
   "outputs": [],
   "source": [
    "import tensorflow as tf\n",
    "\n",
    "string_var = tf.Variable(\"This is a string\", tf.string)\n",
    "number_var = tf.Variable(64, tf.int16)\n",
    "float_var = tf.Variable(3.67, tf.float64)"
   ]
  },
  {
   "cell_type": "code",
   "execution_count": 9,
   "id": "99505454-ddd4-4331-94f1-cef005f369e0",
   "metadata": {},
   "outputs": [],
   "source": [
    "rank1_tensor = tf.Variable([\"test\", \"ok\", \"diego\", \"arturo\"], tf.string) \n",
    "rank2_tensor = tf.Variable([[\"test\", \"ok\"],[\"test\", \"yes\"]], tf.string)"
   ]
  },
  {
   "cell_type": "code",
   "execution_count": 10,
   "id": "fd9e0d26-94ac-484c-99b2-e49976782dd7",
   "metadata": {},
   "outputs": [
    {
     "data": {
      "text/plain": [
       "<tf.Tensor: shape=(), dtype=int32, numpy=2>"
      ]
     },
     "execution_count": 10,
     "metadata": {},
     "output_type": "execute_result"
    }
   ],
   "source": [
    "tf.rank(rank2_tensor)"
   ]
  },
  {
   "cell_type": "code",
   "execution_count": 12,
   "id": "7be968e0-3760-40b7-8f00-3b7ae951d333",
   "metadata": {},
   "outputs": [],
   "source": [
    "tensor_demo_1 = tf.ones([1,2,3])\n",
    "tensor_demo_2 = tf.reshape(tensor_demo_1, [2,3,1])\n",
    "tensor_demo_3 = tf.reshape(tensor_demo_2, [3, -1])"
   ]
  }
 ],
 "metadata": {
  "kernelspec": {
   "display_name": "Python 3 (ipykernel)",
   "language": "python",
   "name": "python3"
  },
  "language_info": {
   "codemirror_mode": {
    "name": "ipython",
    "version": 3
   },
   "file_extension": ".py",
   "mimetype": "text/x-python",
   "name": "python",
   "nbconvert_exporter": "python",
   "pygments_lexer": "ipython3",
   "version": "3.10.4"
  }
 },
 "nbformat": 4,
 "nbformat_minor": 5
}
